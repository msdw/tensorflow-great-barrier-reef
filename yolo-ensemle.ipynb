{
 "cells": [
  {
   "cell_type": "code",
   "execution_count": 1,
   "id": "e9b159bf",
   "metadata": {
    "execution": {
     "iopub.execute_input": "2022-02-14T07:00:24.868707Z",
     "iopub.status.busy": "2022-02-14T07:00:24.867227Z",
     "iopub.status.idle": "2022-02-14T07:00:53.349553Z",
     "shell.execute_reply": "2022-02-14T07:00:53.348875Z",
     "shell.execute_reply.started": "2022-02-14T06:49:47.332255Z"
    },
    "papermill": {
     "duration": 28.500673,
     "end_time": "2022-02-14T07:00:53.349705",
     "exception": false,
     "start_time": "2022-02-14T07:00:24.849032",
     "status": "completed"
    },
    "tags": []
   },
   "outputs": [
    {
     "name": "stdout",
     "output_type": "stream",
     "text": [
      "Processing /kaggle/input/timm-0-4-12-py3-none-any-whl/timm-0.4.12-py3-none-any.whl\r\n",
      "Requirement already satisfied: torchvision in /opt/conda/lib/python3.7/site-packages (from timm==0.4.12) (0.10.1)\r\n",
      "Requirement already satisfied: torch>=1.4 in /opt/conda/lib/python3.7/site-packages (from timm==0.4.12) (1.9.1)\r\n",
      "Requirement already satisfied: typing-extensions in /opt/conda/lib/python3.7/site-packages (from torch>=1.4->timm==0.4.12) (3.10.0.2)\r\n",
      "Requirement already satisfied: numpy in /opt/conda/lib/python3.7/site-packages (from torchvision->timm==0.4.12) (1.19.5)\r\n",
      "Requirement already satisfied: pillow>=5.3.0 in /opt/conda/lib/python3.7/site-packages (from torchvision->timm==0.4.12) (8.2.0)\r\n",
      "Installing collected packages: timm\r\n",
      "Successfully installed timm-0.4.12\r\n",
      "\u001b[33mWARNING: Running pip as the 'root' user can result in broken permissions and conflicting behaviour with the system package manager. It is recommended to use a virtual environment instead: https://pip.pypa.io/warnings/venv\u001b[0m\r\n"
     ]
    }
   ],
   "source": [
    "!pip install ../input/timm-0-4-12-py3-none-any-whl/timm-0.4.12-py3-none-any.whl"
   ]
  },
  {
   "cell_type": "code",
   "execution_count": 2,
   "id": "80249e66",
   "metadata": {
    "execution": {
     "iopub.execute_input": "2022-02-14T07:00:53.388666Z",
     "iopub.status.busy": "2022-02-14T07:00:53.387894Z",
     "iopub.status.idle": "2022-02-14T07:00:58.680955Z",
     "shell.execute_reply": "2022-02-14T07:00:58.680468Z",
     "shell.execute_reply.started": "2022-02-14T06:50:16.097761Z"
    },
    "papermill": {
     "duration": 5.314997,
     "end_time": "2022-02-14T07:00:58.681084",
     "exception": false,
     "start_time": "2022-02-14T07:00:53.366087",
     "status": "completed"
    },
    "tags": []
   },
   "outputs": [],
   "source": [
    "import numpy as np # linear algebra\n",
    "import pandas as pd # data processing, CSV file I/O (e.g. pd.read_csv)\n",
    "import albumentations as A\n",
    "import torch\n",
    "import torch.nn.functional as F\n",
    "from tqdm import tqdm\n",
    "import sys\n",
    "import math\n",
    "import cv2\n",
    "import time\n",
    "import timm\n",
    "from albumentations.augmentations.geometric.functional import bbox_rot90\n",
    "import matplotlib.pyplot as plt\n",
    "from torchvision.ops import box_iou\n",
    "\n",
    "%matplotlib inline\n",
    "\n",
    "sys.path.append('../input/tensorflow-great-barrier-reef')\n",
    "sys.path.append('../input/yolov5-lib-ds')\n",
    "sys.path.append('/kaggle/input/weightedboxesfusion/')\n",
    "\n",
    "from ensemble_boxes import weighted_boxes_fusion"
   ]
  },
  {
   "cell_type": "code",
   "execution_count": 3,
   "id": "c5b17cfd",
   "metadata": {
    "execution": {
     "iopub.execute_input": "2022-02-14T07:00:58.714398Z",
     "iopub.status.busy": "2022-02-14T07:00:58.713791Z",
     "iopub.status.idle": "2022-02-14T07:01:00.153103Z",
     "shell.execute_reply": "2022-02-14T07:01:00.151963Z",
     "shell.execute_reply.started": "2022-02-14T06:50:21.121756Z"
    },
    "papermill": {
     "duration": 1.458124,
     "end_time": "2022-02-14T07:01:00.153255",
     "exception": false,
     "start_time": "2022-02-14T07:00:58.695131",
     "status": "completed"
    },
    "tags": []
   },
   "outputs": [],
   "source": [
    "!mkdir -p /root/.config/Ultralytics\n",
    "!cp /kaggle/input/yolov5-font/Arial.ttf /root/.config/Ultralytics/"
   ]
  },
  {
   "cell_type": "code",
   "execution_count": 4,
   "id": "8f4c40c4",
   "metadata": {
    "execution": {
     "iopub.execute_input": "2022-02-14T07:01:00.185524Z",
     "iopub.status.busy": "2022-02-14T07:01:00.184913Z",
     "iopub.status.idle": "2022-02-14T07:01:00.205809Z",
     "shell.execute_reply": "2022-02-14T07:01:00.206205Z",
     "shell.execute_reply.started": "2022-02-14T06:50:22.454795Z"
    },
    "papermill": {
     "duration": 0.03903,
     "end_time": "2022-02-14T07:01:00.206337",
     "exception": false,
     "start_time": "2022-02-14T07:01:00.167307",
     "status": "completed"
    },
    "tags": []
   },
   "outputs": [],
   "source": [
    "import greatbarrierreef\n",
    "env = greatbarrierreef.make_env()# initialize the environment\n",
    "iter_test = env.iter_test()      # an iterator which loops over the test set and sample submission"
   ]
  },
  {
   "cell_type": "code",
   "execution_count": 5,
   "id": "69ce0e5c",
   "metadata": {
    "execution": {
     "iopub.execute_input": "2022-02-14T07:01:00.237870Z",
     "iopub.status.busy": "2022-02-14T07:01:00.237359Z",
     "iopub.status.idle": "2022-02-14T07:01:00.240961Z",
     "shell.execute_reply": "2022-02-14T07:01:00.240570Z",
     "shell.execute_reply.started": "2022-02-14T06:50:22.481581Z"
    },
    "papermill": {
     "duration": 0.020903,
     "end_time": "2022-02-14T07:01:00.241080",
     "exception": false,
     "start_time": "2022-02-14T07:01:00.220177",
     "status": "completed"
    },
    "tags": []
   },
   "outputs": [],
   "source": [
    "# hyp\n",
    "\n",
    "# attention\n",
    "ATT_ENABLED = True\n",
    "ATT_ANCHOR_SCORE = 0.15\n",
    "ATT_BOOST_SCORE = 0.1\n",
    "ATT_SPLITOR_THRESHOLD = 4\n",
    "\n",
    "# predict\n",
    "FINAL_THRESHOLD = 0.08"
   ]
  },
  {
   "cell_type": "code",
   "execution_count": 6,
   "id": "41746559",
   "metadata": {
    "execution": {
     "iopub.execute_input": "2022-02-14T07:01:00.276218Z",
     "iopub.status.busy": "2022-02-14T07:01:00.275638Z",
     "iopub.status.idle": "2022-02-14T07:01:03.655111Z",
     "shell.execute_reply": "2022-02-14T07:01:03.655569Z",
     "shell.execute_reply.started": "2022-02-14T06:50:22.488065Z"
    },
    "papermill": {
     "duration": 3.401198,
     "end_time": "2022-02-14T07:01:03.655723",
     "exception": false,
     "start_time": "2022-02-14T07:01:00.254525",
     "status": "completed"
    },
    "tags": []
   },
   "outputs": [
    {
     "name": "stdout",
     "output_type": "stream",
     "text": [
      "fine\n"
     ]
    }
   ],
   "source": [
    "splitor = timm.create_model(\"efficientnet_b0\", num_classes=1)\n",
    "splitor.load_state_dict(torch.load(\"../input/patric-seq-splitor/splitor.pt\"))\n",
    "splitor.eval()\n",
    "splitor.cuda()\n",
    "print(\"fine\")"
   ]
  },
  {
   "cell_type": "code",
   "execution_count": 7,
   "id": "d6b01e3e",
   "metadata": {
    "execution": {
     "iopub.execute_input": "2022-02-14T07:01:03.690770Z",
     "iopub.status.busy": "2022-02-14T07:01:03.690041Z",
     "iopub.status.idle": "2022-02-14T07:01:03.692672Z",
     "shell.execute_reply": "2022-02-14T07:01:03.692244Z",
     "shell.execute_reply.started": "2022-02-14T06:50:25.899445Z"
    },
    "papermill": {
     "duration": 0.023092,
     "end_time": "2022-02-14T07:01:03.692772",
     "exception": false,
     "start_time": "2022-02-14T07:01:03.669680",
     "status": "completed"
    },
    "tags": []
   },
   "outputs": [],
   "source": [
    "def create_scaler(pivot, mode, strenth=2.5, max_weight=None):\n",
    "    if max_weight is None:\n",
    "        max_weight = strenth\n",
    "\n",
    "    def _func(boxes):\n",
    "        areas = (boxes[:, 2] - boxes[:, 0]) * (boxes[:, 3] - boxes[:, 1])\n",
    "        for i, (area, box) in enumerate(zip(areas, boxes)):\n",
    "            # boxes[i, 4] *= np.exp(1. - thr / area)\n",
    "            if mode == \"desc\":\n",
    "                boxes[i, 4] *= min(strenth**(1-area/pivot), strenth)\n",
    "            elif mode == \"asc\":\n",
    "                boxes[i, 4] *= min(strenth**(-1+area/pivot), strenth)\n",
    "            else:\n",
    "                raise Exception(\"No such mode\")\n",
    "        return boxes\n",
    "\n",
    "    return _func"
   ]
  },
  {
   "cell_type": "code",
   "execution_count": 8,
   "id": "8a1c3a20",
   "metadata": {
    "execution": {
     "iopub.execute_input": "2022-02-14T07:01:03.727041Z",
     "iopub.status.busy": "2022-02-14T07:01:03.726295Z",
     "iopub.status.idle": "2022-02-14T07:01:03.728647Z",
     "shell.execute_reply": "2022-02-14T07:01:03.728245Z",
     "shell.execute_reply.started": "2022-02-14T06:50:25.909579Z"
    },
    "papermill": {
     "duration": 0.021169,
     "end_time": "2022-02-14T07:01:03.728748",
     "exception": false,
     "start_time": "2022-02-14T07:01:03.707579",
     "status": "completed"
    },
    "tags": []
   },
   "outputs": [],
   "source": [
    "def filter_by_area(boxes, operator, threshold):\n",
    "    areas = (boxes[:, 2] - boxes[:, 0]) * (boxes[:, 3] - boxes[:, 1])\n",
    "\n",
    "    if operator == \">\":\n",
    "        return boxes[areas > threshold]\n",
    "    elif operator == \"<\":\n",
    "        return boxes[areas < threshold]\n",
    "    else:\n",
    "        raise Exception(\"No such operator\")"
   ]
  },
  {
   "cell_type": "code",
   "execution_count": 9,
   "id": "310952b4",
   "metadata": {
    "execution": {
     "iopub.execute_input": "2022-02-14T07:01:03.759104Z",
     "iopub.status.busy": "2022-02-14T07:01:03.758608Z",
     "iopub.status.idle": "2022-02-14T07:01:03.761841Z",
     "shell.execute_reply": "2022-02-14T07:01:03.762227Z",
     "shell.execute_reply.started": "2022-02-14T06:50:25.922939Z"
    },
    "papermill": {
     "duration": 0.019943,
     "end_time": "2022-02-14T07:01:03.762349",
     "exception": false,
     "start_time": "2022-02-14T07:01:03.742406",
     "status": "completed"
    },
    "tags": []
   },
   "outputs": [],
   "source": [
    "# # visualize\n",
    "# pivot = 2000.0\n",
    "# strenth = 2.7\n",
    "# mode = \"asc\"\n",
    "# x = np.linspace(1, 10000, num=10000)\n",
    "# if mode == \"asc\":\n",
    "#     y = np.clip(strenth**(-1+x/pivot), 0, strenth)\n",
    "# else:\n",
    "#     y = np.clip(strenth**(1-x/pivot), 0, strenth)\n",
    "\n",
    "# plt.plot(x, y)"
   ]
  },
  {
   "cell_type": "code",
   "execution_count": 10,
   "id": "5a2f8bf9",
   "metadata": {
    "execution": {
     "iopub.execute_input": "2022-02-14T07:01:03.797561Z",
     "iopub.status.busy": "2022-02-14T07:01:03.796913Z",
     "iopub.status.idle": "2022-02-14T07:01:03.799916Z",
     "shell.execute_reply": "2022-02-14T07:01:03.799526Z",
     "shell.execute_reply.started": "2022-02-14T06:50:25.931842Z"
    },
    "papermill": {
     "duration": 0.023989,
     "end_time": "2022-02-14T07:01:03.800015",
     "exception": false,
     "start_time": "2022-02-14T07:01:03.776026",
     "status": "completed"
    },
    "tags": []
   },
   "outputs": [],
   "source": [
    "def wbf(mmdet_list, weights, thres=0.0):\n",
    "\n",
    "    for mmdet_res in mmdet_list:\n",
    "        mask = np.ones_like(mmdet_res[:, :4])\n",
    "        mask[:, 0], mask[:, 1], mask[:, 2], mask[:, 3] = 1280.0, 720.0, 1280.0, 720.0\n",
    "        mmdet_res[:, :4] /= mask\n",
    "\n",
    "    boxes_list = [ mmdet_res[:, :4] for mmdet_res in mmdet_list ]\n",
    "    score_list = [ mmdet_res[:, 4] for mmdet_res in mmdet_list ]\n",
    "    label_list = [ [0] * len(boxes) for boxes in boxes_list ]\n",
    "\n",
    "    res = weighted_boxes_fusion(\n",
    "        boxes_list,\n",
    "        score_list,\n",
    "        label_list,\n",
    "        weights=weights,\n",
    "        conf_type=\"avg\",\n",
    "        skip_box_thr=thres\n",
    "    )\n",
    "\n",
    "    boxes = res[0]\n",
    "    scores = res[1]\n",
    "\n",
    "    mask = np.ones_like(boxes)\n",
    "    mask[:, 0], mask[:, 1], mask[:, 2], mask[:, 3] = 1280.0, 720.0, 1280.0, 720.0\n",
    "    boxes *= mask\n",
    "\n",
    "    return np.concatenate([boxes, scores[:, np.newaxis]], axis=1)"
   ]
  },
  {
   "cell_type": "code",
   "execution_count": 11,
   "id": "b39f9efb",
   "metadata": {
    "execution": {
     "iopub.execute_input": "2022-02-14T07:01:03.840051Z",
     "iopub.status.busy": "2022-02-14T07:01:03.839220Z",
     "iopub.status.idle": "2022-02-14T07:01:03.841519Z",
     "shell.execute_reply": "2022-02-14T07:01:03.840997Z",
     "shell.execute_reply.started": "2022-02-14T06:58:49.957479Z"
    },
    "papermill": {
     "duration": 0.027957,
     "end_time": "2022-02-14T07:01:03.841621",
     "exception": false,
     "start_time": "2022-02-14T07:01:03.813664",
     "status": "completed"
    },
    "tags": []
   },
   "outputs": [],
   "source": [
    "chk1280 = \"../input/patric-final-models/r1280-e13.pt\"\n",
    "chk1800 = \"../input/patric-final-models/r1800-e13.pt\"\n",
    "chk2400 = \"../input/patric-yolov5l6-multiscale-full-e11/best.pt\"\n",
    "chk2400a = \"../input/2400-seeds-2022/best.pt\"\n",
    "chk2400b = \"../input/patric-2400-seeds-888/best.pt\"\n",
    "chk2400c = \"../input/patric-2400-seeds-777/best.pt\"\n",
    "chk3200 = \"../input/3200-full/best.pt\"\n",
    "\n",
    "models = [\n",
    "#     {\n",
    "#         \"chk\": chk2400,\n",
    "#         \"size\": 3600,\n",
    "#         \"conf\": 0.10,\n",
    "#         \"w\": 2\n",
    "#     },\n",
    "#     {\n",
    "#         \"chk\": chk2400a,\n",
    "#         \"size\": 4000,\n",
    "#         \"conf\": 0.10,\n",
    "#         \"w\": 2,\n",
    "#         \"rotate\": \"90deg\"\n",
    "#     },\n",
    "#     {\n",
    "#         \"chk\": chk3200,\n",
    "#         \"size\": 3200,\n",
    "#         \"conf\": 0.10,\n",
    "#         \"w\": 2,\n",
    "#         \"rotate\": \"90deg\",\n",
    "#     },\n",
    "#     {\n",
    "#         \"chk\": chk2400b,\n",
    "#         \"size\": 2400,\n",
    "#         \"conf\": 0.10,\n",
    "#         \"rotate\": \"270deg\",\n",
    "#         \"w\": 2\n",
    "#     },\n",
    "#     {\n",
    "#         \"chk\": chk3200,\n",
    "#         \"size\": 3200,\n",
    "#         \"conf\": 0.10,\n",
    "#         \"w\": 2,\n",
    "#         \"rotate\": \"90deg\",\n",
    "#     },\n",
    "#     {\n",
    "#         \"chk\": chk3200,\n",
    "#         \"size\": 4000,\n",
    "#         \"conf\": 0.10,\n",
    "#         \"w\": 2,\n",
    "#     },\n",
    "#     {\n",
    "#         \"chk\": chk2400,\n",
    "#         \"size\": 4800,\n",
    "#         \"conf\": 0.10,\n",
    "#         \"rotate\": \"90deg\",\n",
    "#         \"w\": 2\n",
    "#     },\n",
    "\n",
    "    \n",
    "    \n",
    "    # adapt CV part\n",
    "    {\n",
    "        \"chk\": chk1280,\n",
    "        \"size\": 1800,\n",
    "        \"conf\": 0.01,\n",
    "        \"w\": 1,\n",
    "    },\n",
    "\n",
    "    {\n",
    "        \"chk\": chk1800,\n",
    "        \"size\": 1800,\n",
    "        \"conf\": 0.01,\n",
    "        \"w\": 1,\n",
    "    },\n",
    "    {\n",
    "        \"chk\": chk1800,\n",
    "        \"size\": 2000,\n",
    "        \"conf\": 0.01,\n",
    "        \"w\": 1,\n",
    "        \"rotate\": \"90deg\",\n",
    "    },\n",
    "\n",
    "    {\n",
    "        \"chk\": chk2400,\n",
    "        \"size\": 2400,\n",
    "        \"conf\": 0.01,\n",
    "        \"w\": 1,\n",
    "    },\n",
    "    {\n",
    "        \"chk\": chk2400b,\n",
    "        \"size\": 2600,\n",
    "        \"conf\": 0.01,\n",
    "        \"w\": 1,\n",
    "        \"rotate\": \"180deg\",\n",
    "    },\n",
    "    {\n",
    "        \"chk\": chk2400a,\n",
    "        \"size\": 2800,\n",
    "        \"conf\": 0.01,\n",
    "        \"w\": 1,\n",
    "        \"rotate\": \"90deg\",\n",
    "    },\n",
    "\n",
    "\n",
    "    {\n",
    "        \"chk\": chk3200,\n",
    "        \"size\": 3200,\n",
    "        \"conf\": 0.01,\n",
    "        \"w\": 1,\n",
    "    },\n",
    "\n",
    "    {\n",
    "        \"chk\": chk3200,\n",
    "        \"size\": 3200,\n",
    "        \"conf\": 0.01,\n",
    "        \"w\": 1,\n",
    "        \"rotate\": \"270deg\",\n",
    "    },\n",
    "    {\n",
    "        \"chk\": chk3200,\n",
    "        \"size\": 3400,\n",
    "        \"conf\": 0.01,\n",
    "        \"w\": 1,\n",
    "    },\n",
    "    {\n",
    "        \"chk\": chk3200,\n",
    "        \"size\": 3600,\n",
    "        \"conf\": 0.01,\n",
    "        \"w\": 1,\n",
    "        \"rotate\": \"180deg\",\n",
    "    },\n",
    "\n",
    "    {\n",
    "        \"chk\": chk3200,\n",
    "        \"size\": 4000,\n",
    "        \"conf\": 0.01,\n",
    "        \"w\": 1,\n",
    "        \"rotate\": \"90deg\",\n",
    "    },\n",
    "\n",
    "\n",
    "#     # adapt LB part\n",
    "#     {\n",
    "#         \"chk\": chk2400,\n",
    "#         \"size\": 4800,\n",
    "#         \"conf\": 0.01,\n",
    "#         \"w\": 1,\n",
    "#         \"rotate\": \"180deg\",\n",
    "#     },\n",
    "\n",
    "#     {\n",
    "#         \"chk\": chk2400b,\n",
    "#         \"size\": 4000,\n",
    "#         \"conf\": 0.01,\n",
    "#         \"w\": 1,\n",
    "#     },\n",
    "\n",
    "#     {\n",
    "#         \"chk\": chk2400c,\n",
    "#         \"size\": 3200,\n",
    "#         \"conf\": 0.01,\n",
    "#         \"w\": 1,\n",
    "#         \"rotate\": \"90deg\",\n",
    "#     },\n",
    "]\n"
   ]
  },
  {
   "cell_type": "code",
   "execution_count": 12,
   "id": "35f6daaf",
   "metadata": {
    "execution": {
     "iopub.execute_input": "2022-02-14T07:01:03.874435Z",
     "iopub.status.busy": "2022-02-14T07:01:03.873835Z",
     "iopub.status.idle": "2022-02-14T07:01:29.958105Z",
     "shell.execute_reply": "2022-02-14T07:01:29.957656Z",
     "shell.execute_reply.started": "2022-02-14T06:58:50.348078Z"
    },
    "papermill": {
     "duration": 26.102966,
     "end_time": "2022-02-14T07:01:29.958250",
     "exception": false,
     "start_time": "2022-02-14T07:01:03.855284",
     "status": "completed"
    },
    "tags": []
   },
   "outputs": [
    {
     "name": "stderr",
     "output_type": "stream",
     "text": [
      "YOLOv5 🚀 2022-2-5 torch 1.9.1 CUDA:0 (Tesla P100-PCIE-16GB, 16281MiB)\n",
      "\n",
      "Fusing layers... \n",
      "Model Summary: 476 layers, 76118664 parameters, 0 gradients\n",
      "Adding AutoShape... \n",
      "YOLOv5 🚀 2022-2-5 torch 1.9.1 CUDA:0 (Tesla P100-PCIE-16GB, 16281MiB)\n",
      "\n",
      "Fusing layers... \n",
      "Model Summary: 476 layers, 76118664 parameters, 0 gradients\n",
      "Adding AutoShape... \n",
      "YOLOv5 🚀 2022-2-5 torch 1.9.1 CUDA:0 (Tesla P100-PCIE-16GB, 16281MiB)\n",
      "\n",
      "Fusing layers... \n",
      "Model Summary: 476 layers, 76118664 parameters, 0 gradients\n",
      "Adding AutoShape... \n",
      "YOLOv5 🚀 2022-2-5 torch 1.9.1 CUDA:0 (Tesla P100-PCIE-16GB, 16281MiB)\n",
      "\n",
      "Fusing layers... \n",
      "Model Summary: 476 layers, 76118664 parameters, 0 gradients\n",
      "Adding AutoShape... \n",
      "YOLOv5 🚀 2022-2-5 torch 1.9.1 CUDA:0 (Tesla P100-PCIE-16GB, 16281MiB)\n",
      "\n",
      "Fusing layers... \n",
      "Model Summary: 476 layers, 76118664 parameters, 0 gradients\n",
      "Adding AutoShape... \n",
      "YOLOv5 🚀 2022-2-5 torch 1.9.1 CUDA:0 (Tesla P100-PCIE-16GB, 16281MiB)\n",
      "\n",
      "Fusing layers... \n",
      "Model Summary: 476 layers, 76118664 parameters, 0 gradients\n",
      "Adding AutoShape... \n",
      "YOLOv5 🚀 2022-2-5 torch 1.9.1 CUDA:0 (Tesla P100-PCIE-16GB, 16281MiB)\n",
      "\n",
      "Fusing layers... \n",
      "Model Summary: 476 layers, 76118664 parameters, 0 gradients\n",
      "Adding AutoShape... \n",
      "YOLOv5 🚀 2022-2-5 torch 1.9.1 CUDA:0 (Tesla P100-PCIE-16GB, 16281MiB)\n",
      "\n",
      "Fusing layers... \n",
      "Model Summary: 476 layers, 76118664 parameters, 0 gradients\n",
      "Adding AutoShape... \n",
      "YOLOv5 🚀 2022-2-5 torch 1.9.1 CUDA:0 (Tesla P100-PCIE-16GB, 16281MiB)\n",
      "\n",
      "Fusing layers... \n",
      "Model Summary: 476 layers, 76118664 parameters, 0 gradients\n",
      "Adding AutoShape... \n",
      "YOLOv5 🚀 2022-2-5 torch 1.9.1 CUDA:0 (Tesla P100-PCIE-16GB, 16281MiB)\n",
      "\n",
      "Fusing layers... \n",
      "Model Summary: 476 layers, 76118664 parameters, 0 gradients\n",
      "Adding AutoShape... \n",
      "YOLOv5 🚀 2022-2-5 torch 1.9.1 CUDA:0 (Tesla P100-PCIE-16GB, 16281MiB)\n",
      "\n",
      "Fusing layers... \n",
      "Model Summary: 476 layers, 76118664 parameters, 0 gradients\n",
      "Adding AutoShape... \n"
     ]
    }
   ],
   "source": [
    "for m in models:\n",
    "    m[\"model\"] = torch.hub.load('../input/yolov5-lib-ds',\n",
    "                                'custom',\n",
    "                                path=m[\"chk\"],\n",
    "                                source='local',\n",
    "                                force_reload=True)\n",
    "    m[\"model\"].conf = 0.01\n",
    "    m[\"__attention_area__\"] = np.ndarray(shape=[0, 5], dtype=float)"
   ]
  },
  {
   "cell_type": "code",
   "execution_count": 13,
   "id": "517c14e0",
   "metadata": {
    "execution": {
     "iopub.execute_input": "2022-02-14T07:01:30.028386Z",
     "iopub.status.busy": "2022-02-14T07:01:30.022417Z",
     "iopub.status.idle": "2022-02-14T07:01:30.036256Z",
     "shell.execute_reply": "2022-02-14T07:01:30.035374Z",
     "shell.execute_reply.started": "2022-02-14T06:59:03.384337Z"
    },
    "papermill": {
     "duration": 0.052488,
     "end_time": "2022-02-14T07:01:30.036375",
     "exception": false,
     "start_time": "2022-02-14T07:01:29.983887",
     "status": "completed"
    },
    "tags": []
   },
   "outputs": [],
   "source": [
    "def create_rotate_back_fn(deg):\n",
    "    \n",
    "    h, w = {\n",
    "        \"90deg\": (1280, 720),\n",
    "        \"180deg\": (720, 1280),\n",
    "        \"270deg\": (1280, 720)\n",
    "    }[deg]\n",
    "\n",
    "    bbox_rot90_count = {\n",
    "        \"90deg\": 1,\n",
    "        \"180deg\": 2,\n",
    "        \"270deg\": 3\n",
    "    }[deg]\n",
    "\n",
    "    norm_back = np.array([1280, 720, 1280, 720, 1])\n",
    "\n",
    "    def _func(xyxyc):\n",
    "        xyxyc /= np.array([w, h, w, h, 1])\n",
    "        xyxyc = np.array([*bbox_rot90(xyxyc, bbox_rot90_count, None, None), xyxyc[4]])\n",
    "        return xyxyc * norm_back\n",
    "\n",
    "    return _func\n",
    "\n",
    "\n",
    "rotates_funcs = {\n",
    "    \"90deg\": (cv2.ROTATE_90_CLOCKWISE, create_rotate_back_fn(\"90deg\")),\n",
    "    \"180deg\": (cv2.ROTATE_180, create_rotate_back_fn(\"180deg\")),\n",
    "    \"270deg\": (cv2.ROTATE_90_COUNTERCLOCKWISE, create_rotate_back_fn(\"270deg\"))\n",
    "}\n",
    "\n",
    "att_area = np.ndarray(shape=[0, 5], dtype=float)\n",
    "previous_image = np.zeros(shape=(720, 1280, 3))\n",
    "\n",
    "def infer(image):\n",
    "    global previous_image\n",
    "\n",
    "    cat_image = np.concatenate([previous_image, image], axis=0)\n",
    "    previous_image = image.copy()\n",
    "    res = splitor(torch.tensor(cat_image / 255.0).permute(2, 0, 1).unsqueeze(0).float().cuda()).item()\n",
    "    is_continouse = res < ATT_SPLITOR_THRESHOLD\n",
    "\n",
    "    all_boxes = []\n",
    "    ws = []\n",
    "    for m in models:\n",
    "        augment = m[\"augment\"] if \"augment\" in m else False\n",
    "        if 'rotate' in m:\n",
    "            rc = m['rotate']\n",
    "            cv_flag, rotate_back_fn = rotates_funcs[rc]\n",
    "            image_rotated = cv2.rotate(image, cv_flag)\n",
    "            preds_rotated = m[\"model\"](image_rotated, size=m[\"size\"], augment=augment).pandas().xyxy[0]\n",
    "            preds_rotated = preds_rotated[['xmin', 'ymin', 'xmax', 'ymax', 'confidence']].to_numpy()\n",
    "            for i, box in enumerate(preds_rotated):\n",
    "                preds_rotated[i] = rotate_back_fn(box)\n",
    "            boxes = preds_rotated\n",
    "        else:\n",
    "            r = m[\"model\"](image, size=m[\"size\"], augment=augment).pandas().xyxy[0]\n",
    "            boxes = r[['xmin', 'ymin', 'xmax', 'ymax', 'confidence']].to_numpy()\n",
    "        if \"area_scaler\" in m:\n",
    "            boxes = m[\"area_scaler\"](boxes)\n",
    "        \n",
    "        if \"area\" in m:\n",
    "            operator, threshold = m[\"area\"]\n",
    "            boxes = filter_by_area(boxes, operator, threshold)\n",
    "\n",
    "        if ATT_ENABLED:\n",
    "            # if not continouse, clear the previous attention area\n",
    "            if not is_continouse:\n",
    "                m[\"__attention_area__\"] = np.ndarray(shape=[0, 5], dtype=float)\n",
    "            boxes = boxes.astype(float)\n",
    "            _att_area = m[\"__attention_area__\"].copy()\n",
    "            _boxes = boxes.copy()\n",
    "            ious = box_iou(torch.tensor(_boxes[:, :4]), torch.tensor(_att_area[:, :4])).numpy()\n",
    "            if len(ious):\n",
    "                target_index = ious.argmax(axis=0)\n",
    "                if len(target_index) > 0:\n",
    "                    boxes[target_index, 4] += ATT_BOOST_SCORE\n",
    "\n",
    "            att_area = _boxes[_boxes[:, 4] > ATT_ANCHOR_SCORE]\n",
    "            m[\"__attention_area__\"] = att_area\n",
    "\n",
    "        boxes = boxes[boxes[:, 4] > m[\"conf\"]]\n",
    "        all_boxes.append(boxes)\n",
    "        ws.append(m[\"w\"])\n",
    "    preds = wbf(all_boxes, ws)\n",
    "\n",
    "    # filtering out area <= 500\n",
    "    # preds = preds[((preds[:, 2] - preds[:, 0]) * (preds[:, 3] - preds[:, 1])) > 500]\n",
    "    return preds"
   ]
  },
  {
   "cell_type": "code",
   "execution_count": 14,
   "id": "f5942441",
   "metadata": {
    "execution": {
     "iopub.execute_input": "2022-02-14T07:01:30.092540Z",
     "iopub.status.busy": "2022-02-14T07:01:30.091739Z",
     "iopub.status.idle": "2022-02-14T07:01:30.194366Z",
     "shell.execute_reply": "2022-02-14T07:01:30.193854Z",
     "shell.execute_reply.started": "2022-02-14T06:59:03.411081Z"
    },
    "papermill": {
     "duration": 0.132636,
     "end_time": "2022-02-14T07:01:30.194516",
     "exception": false,
     "start_time": "2022-02-14T07:01:30.061880",
     "status": "completed"
    },
    "tags": []
   },
   "outputs": [],
   "source": [
    "df = pd.read_csv(\"../input/tensorflow-great-barrier-reef/train.csv\")\n",
    "df = df[df.annotations != '[]']\n",
    "item = df.sample(1).iloc[0]\n",
    "image = cv2.imread(f\"../input/tensorflow-great-barrier-reef/train_images/video_{item.video_id}/{item.video_frame}.jpg\")\n",
    "image = cv2.cvtColor(image, cv2.COLOR_RGB2BGR)"
   ]
  },
  {
   "cell_type": "code",
   "execution_count": 15,
   "id": "e9bb0c9a",
   "metadata": {
    "execution": {
     "iopub.execute_input": "2022-02-14T07:01:30.250769Z",
     "iopub.status.busy": "2022-02-14T07:01:30.249578Z",
     "iopub.status.idle": "2022-02-14T07:01:37.565635Z",
     "shell.execute_reply": "2022-02-14T07:01:37.566297Z",
     "shell.execute_reply.started": "2022-02-14T06:59:03.488020Z"
    },
    "papermill": {
     "duration": 7.345967,
     "end_time": "2022-02-14T07:01:37.566502",
     "exception": false,
     "start_time": "2022-02-14T07:01:30.220535",
     "status": "completed"
    },
    "tags": []
   },
   "outputs": [
    {
     "name": "stdout",
     "output_type": "stream",
     "text": [
      "[[     364.32      589.89      411.46      638.21     0.79646]\n",
      " [      258.4      332.04      308.02       374.2     0.79455]\n",
      " [     267.16      506.09      303.74      541.76     0.75925]\n",
      " [     429.58      401.92      462.86      431.57     0.63983]\n",
      " [     271.13      585.36      299.87      614.47     0.56476]\n",
      " [     301.45      334.82      327.04      356.13     0.23289]\n",
      " [     329.64      236.76      360.44      263.34    0.073468]\n",
      " [     361.84      109.56      392.67      131.03    0.014145]\n",
      " [     250.38      269.89      277.71      300.36   0.0083186]\n",
      " [     282.93      612.89      321.41      646.48   0.0061208]\n",
      " [     275.19      597.92      298.24      615.96   0.0046747]\n",
      " [      326.8      321.67      349.76      346.27   0.0044901]\n",
      " [     436.53      418.65      474.66      455.76   0.0042963]\n",
      " [     430.79      378.47      455.73      402.85   0.0037841]\n",
      " [     413.14      417.72      449.38      453.44   0.0036514]\n",
      " [     306.28       446.4      336.88      476.35    0.002484]\n",
      " [      397.4      522.27      452.87      572.88   0.0022427]\n",
      " [     277.16      500.51      301.84       518.9   0.0020467]\n",
      " [      239.9      315.58      327.14      389.57   0.0018971]\n",
      " [     290.28      352.07      318.37       376.8   0.0014239]\n",
      " [     340.34      581.81      438.55      643.81    0.001317]\n",
      " [     323.41      323.73      353.03      353.92   0.0011355]\n",
      " [     440.54      391.76       466.5      414.95   0.0011216]\n",
      " [     415.99      392.21      480.68      454.35   0.0010416]]\n"
     ]
    }
   ],
   "source": [
    "res = infer(image)\n",
    "print(res)"
   ]
  },
  {
   "cell_type": "code",
   "execution_count": 16,
   "id": "ed41e710",
   "metadata": {
    "execution": {
     "iopub.execute_input": "2022-02-14T07:01:37.621889Z",
     "iopub.status.busy": "2022-02-14T07:01:37.621112Z",
     "iopub.status.idle": "2022-02-14T07:02:02.418195Z",
     "shell.execute_reply": "2022-02-14T07:02:02.418912Z",
     "shell.execute_reply.started": "2022-02-14T06:59:05.962470Z"
    },
    "papermill": {
     "duration": 24.825581,
     "end_time": "2022-02-14T07:02:02.419180",
     "exception": false,
     "start_time": "2022-02-14T07:01:37.593599",
     "status": "completed"
    },
    "tags": []
   },
   "outputs": [
    {
     "name": "stdout",
     "output_type": "stream",
     "text": [
      "About 10.1 hours\n"
     ]
    }
   ],
   "source": [
    "# 22s ~= 9 hours infering\n",
    "start = time.time()\n",
    "for i in range(10):\n",
    "    infer(image)\n",
    "end = time.time()\n",
    "hours = round((end - start) / 22 * 9, 1)\n",
    "print(f\"About {hours} hours\")"
   ]
  },
  {
   "cell_type": "code",
   "execution_count": 17,
   "id": "4f321af0",
   "metadata": {
    "execution": {
     "iopub.execute_input": "2022-02-14T07:02:02.482507Z",
     "iopub.status.busy": "2022-02-14T07:02:02.481837Z",
     "iopub.status.idle": "2022-02-14T07:02:10.140634Z",
     "shell.execute_reply": "2022-02-14T07:02:10.141084Z",
     "shell.execute_reply.started": "2022-02-14T06:58:14.955809Z"
    },
    "papermill": {
     "duration": 7.691526,
     "end_time": "2022-02-14T07:02:10.141355",
     "exception": false,
     "start_time": "2022-02-14T07:02:02.449829",
     "status": "completed"
    },
    "tags": []
   },
   "outputs": [
    {
     "name": "stderr",
     "output_type": "stream",
     "text": [
      "0it [00:00, ?it/s]"
     ]
    },
    {
     "name": "stdout",
     "output_type": "stream",
     "text": [
      "This version of the API is not optimized and should not be used to estimate the runtime of your code on the hidden test set.\n"
     ]
    },
    {
     "name": "stderr",
     "output_type": "stream",
     "text": [
      "3it [00:07,  2.55s/it]\n"
     ]
    }
   ],
   "source": [
    "for idx, (img, pred_df) in enumerate(tqdm(iter_test)):\n",
    "    anno = ''\n",
    "    r = infer(img)\n",
    "    if r.shape[0] == 0:\n",
    "        anno = ''\n",
    "    else:\n",
    "        for b in r:\n",
    "            if b[4] > FINAL_THRESHOLD:\n",
    "                anno += '{} {} {} {} {} '.format(b[4], int(b[0]), int(b[1]), int(b[2]-b[0]), int(b[3]-b[1]))\n",
    "\n",
    "    pred_df['annotations'] = anno.strip(' ')\n",
    "    env.predict(pred_df)"
   ]
  }
 ],
 "metadata": {
  "kernelspec": {
   "display_name": "Python 3",
   "language": "python",
   "name": "python3"
  },
  "language_info": {
   "codemirror_mode": {
    "name": "ipython",
    "version": 3
   },
   "file_extension": ".py",
   "mimetype": "text/x-python",
   "name": "python",
   "nbconvert_exporter": "python",
   "pygments_lexer": "ipython3",
   "version": "3.7.12"
  },
  "papermill": {
   "default_parameters": {},
   "duration": 115.190324,
   "end_time": "2022-02-14T07:02:11.882273",
   "environment_variables": {},
   "exception": null,
   "input_path": "__notebook__.ipynb",
   "output_path": "__notebook__.ipynb",
   "parameters": {},
   "start_time": "2022-02-14T07:00:16.691949",
   "version": "2.3.3"
  }
 },
 "nbformat": 4,
 "nbformat_minor": 5
}
